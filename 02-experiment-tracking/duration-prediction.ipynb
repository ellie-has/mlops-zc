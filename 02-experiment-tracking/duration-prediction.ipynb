{
 "cells": [
  {
   "cell_type": "code",
   "execution_count": 1,
   "metadata": {},
   "outputs": [],
   "source": [
    "import pandas as pd\n",
    "import pickle\n",
    "import seaborn as sns\n",
    "import matplotlib.pyplot as plt\n",
    "\n",
    "from sklearn.feature_extraction import DictVectorizer\n",
    "from sklearn.linear_model import LinearRegression\n",
    "from sklearn.linear_model import Lasso\n",
    "from sklearn.linear_model import Ridge\n",
    "\n",
    "from sklearn.metrics import root_mean_squared_error"
   ]
  },
  {
   "cell_type": "code",
   "execution_count": 2,
   "metadata": {},
   "outputs": [
    {
     "data": {
      "text/plain": [
       "<Experiment: artifact_location='/workspaces/mlops-zc/02-experiment-tracking/mlruns/1', creation_time=1727191522264, experiment_id='1', last_update_time=1727191522264, lifecycle_stage='active', name='nyc-taxi-experiment', tags={}>"
      ]
     },
     "execution_count": 2,
     "metadata": {},
     "output_type": "execute_result"
    }
   ],
   "source": [
    "import mlflow\n",
    "\n",
    "\n",
    "mlflow.set_tracking_uri(\"sqlite:///mlflow.db\")\n",
    "mlflow.set_experiment(\"nyc-taxi-experiment\")"
   ]
  },
  {
   "cell_type": "code",
   "execution_count": 3,
   "metadata": {},
   "outputs": [],
   "source": [
    "def read_dataframe(filename):\n",
    "    df = pd.read_parquet(filename)\n",
    "\n",
    "    df.lpep_dropoff_datetime = pd.to_datetime(df.lpep_dropoff_datetime)\n",
    "    df.lpep_pickup_datetime = pd.to_datetime(df.lpep_pickup_datetime)\n",
    "\n",
    "    df['duration'] = df.lpep_dropoff_datetime - df.lpep_pickup_datetime\n",
    "    df.duration = df.duration.apply(lambda td: td.total_seconds() / 60)\n",
    "\n",
    "    df = df[(df.duration >= 1) & (df.duration <= 60)]\n",
    "\n",
    "    categorical = ['PULocationID', 'DOLocationID']\n",
    "    df[categorical] = df[categorical].astype(str)\n",
    "    \n",
    "    return df"
   ]
  },
  {
   "cell_type": "code",
   "execution_count": 4,
   "metadata": {},
   "outputs": [],
   "source": [
    "df_train = read_dataframe('https://d37ci6vzurychx.cloudfront.net/trip-data/green_tripdata_2021-01.parquet')\n",
    "df_val = read_dataframe('https://d37ci6vzurychx.cloudfront.net/trip-data/green_tripdata_2021-02.parquet')"
   ]
  },
  {
   "cell_type": "code",
   "execution_count": 5,
   "metadata": {},
   "outputs": [
    {
     "data": {
      "text/plain": [
       "(73908, 61921)"
      ]
     },
     "execution_count": 5,
     "metadata": {},
     "output_type": "execute_result"
    }
   ],
   "source": [
    "\n",
    "len(df_train), len(df_val)"
   ]
  },
  {
   "cell_type": "code",
   "execution_count": 6,
   "metadata": {},
   "outputs": [],
   "source": [
    "df_train['PU_DO'] = df_train['PULocationID'] + '_' + df_train['DOLocationID']\n",
    "df_val['PU_DO'] = df_val['PULocationID'] + '_' + df_val['DOLocationID']"
   ]
  },
  {
   "cell_type": "code",
   "execution_count": 7,
   "metadata": {},
   "outputs": [],
   "source": [
    "categorical = ['PU_DO'] #'PULocationID', 'DOLocationID']\n",
    "numerical = ['trip_distance']\n",
    "\n",
    "dv = DictVectorizer()\n",
    "\n",
    "train_dicts = df_train[categorical + numerical].to_dict(orient='records')\n",
    "X_train = dv.fit_transform(train_dicts)\n",
    "\n",
    "val_dicts = df_val[categorical + numerical].to_dict(orient='records')\n",
    "X_val = dv.transform(val_dicts)"
   ]
  },
  {
   "cell_type": "code",
   "execution_count": 8,
   "metadata": {},
   "outputs": [],
   "source": [
    "target = 'duration'\n",
    "y_train = df_train[target].values\n",
    "y_val = df_val[target].values"
   ]
  },
  {
   "cell_type": "code",
   "execution_count": 9,
   "metadata": {},
   "outputs": [
    {
     "data": {
      "text/plain": [
       "np.float64(7.758715209663881)"
      ]
     },
     "execution_count": 9,
     "metadata": {},
     "output_type": "execute_result"
    }
   ],
   "source": [
    "lr = LinearRegression()\n",
    "lr.fit(X_train, y_train)\n",
    "\n",
    "y_pred = lr.predict(X_val)\n",
    "\n",
    "root_mean_squared_error(y_val, y_pred)"
   ]
  },
  {
   "cell_type": "code",
   "execution_count": 10,
   "metadata": {},
   "outputs": [],
   "source": [
    "with open('models/lin_reg.bin', 'wb') as f_out:\n",
    "    pickle.dump((dv, lr), f_out)"
   ]
  },
  {
   "cell_type": "code",
   "execution_count": 11,
   "metadata": {},
   "outputs": [
    {
     "name": "stderr",
     "output_type": "stream",
     "text": [
      "Bad pipe message: %s [b'\"Google Chrome\";v=\"129\", \"Not=A?Brand\";v=\"8\", \"Chromium\";']\n",
      "Bad pipe message: %s [b'\"129\"\\r\\nsec-ch-ua-mobile: ?0\\r\\nsec-ch-ua-platform: \"Windows\"\\r\\nUpgrade-Insecure-Requests: 1\\r\\nUser-Agent: Mozilla/5.0 (Wi', b'ows NT 10.0; Win64; x64) AppleWebKit/537.36 (KHTML, like Gecko) Chrome/129.0.0.0 Safari/537.36\\r\\nAccept: text/']\n",
      "Bad pipe message: %s [b'ml,application/xhtml+xml,application/xml;q=0.9,image/avif,image/webp,image/apng,*/*;q=0.8,application/s']\n",
      "Bad pipe message: %s [b'ol: max-age=0\\r\\nsec-ch-ua: \"Google Chrome\";v=\"129\", \"Not=A?Brand\";v=\"8\", \"Chromium\";v=\"129\"\\r\\nsec-ch-ua-mobile: ?0\\r\\ns']\n",
      "Bad pipe message: %s [b'-ch-ua-platform: \"Windows\"\\r\\nUpgrade-Insecure-Requests: 1\\r\\nUser-Agent: Mozilla/5.0 (Windows NT 10.0; ', b'n64; x64) AppleWebKit/537.36 (KHTML, like Gecko) Chrome/129.0.0.0 Safari/537.36\\r\\nAccep', b' text/html,application/xhtml+xml,application/xml;q=0.9,image/avif,image/webp,image/apng,*/*;q=0.8,application/signe']\n"
     ]
    }
   ],
   "source": [
    "with mlflow.start_run():\n",
    "\n",
    "    mlflow.set_tag(\"developer\", \"eliya\")\n",
    "\n",
    "    mlflow.log_param(\"train-data-path\", \"'https://d37ci6vzurychx.cloudfront.net/trip-data/green_tripdata_2021-01.parquet\")\n",
    "    mlflow.log_param(\"valid-data-path\", \"https://d37ci6vzurychx.cloudfront.net/trip-data/green_tripdata_2021-02.parquet\")\n",
    "\n",
    "    alpha = 0.01\n",
    "    mlflow.log_param(\"alpha\", alpha)\n",
    "    lr = Lasso(alpha)\n",
    "    lr.fit(X_train, y_train)\n",
    "\n",
    "    y_pred = lr.predict(X_val)\n",
    "    rmse = root_mean_squared_error(y_val, y_pred)\n",
    "    mlflow.log_metric(\"rmse\", rmse)\n",
    "    mlflow.log_artifact(local_path=\"models/lin_reg.bin\", artifact_path=\"models_pickle\")"
   ]
  },
  {
   "cell_type": "code",
   "execution_count": 12,
   "metadata": {},
   "outputs": [],
   "source": [
    "import xgboost as xgb\n",
    "from hyperopt import fmin, tpe, hp, STATUS_OK, Trials\n",
    "from hyperopt.pyll import scope"
   ]
  },
  {
   "cell_type": "code",
   "execution_count": 13,
   "metadata": {},
   "outputs": [],
   "source": [
    "train = xgb.DMatrix(X_train, label=y_train)\n",
    "valid = xgb.DMatrix(X_val, label=y_val)"
   ]
  },
  {
   "cell_type": "code",
   "execution_count": 14,
   "metadata": {},
   "outputs": [],
   "source": [
    "def objective(params):          #params->hyperparamert into xgboost\n",
    "    with mlflow.start_run():\n",
    "        mlflow.set_tag(\"model\", \"xgboost\")\n",
    "        mlflow.log_params(params)\n",
    "        booster = xgb.train(\n",
    "            params=params,\n",
    "            dtrain=train,\n",
    "            num_boost_round=1000,\n",
    "            evals=[(valid, 'validation')],\n",
    "            early_stopping_rounds=50  # if after 50 iteration the models has not reach any improvment on the validation than the optimization of xgboost will be stopped\n",
    "        )\n",
    "        y_pred = booster.predict(valid)\n",
    "        rmse = root_mean_squared_error(y_val, y_pred)\n",
    "        mlflow.log_metric(\"rmse\", rmse)\n",
    "\n",
    "    return {'loss': rmse, 'status': STATUS_OK}"
   ]
  },
  {
   "cell_type": "code",
   "execution_count": null,
   "metadata": {},
   "outputs": [],
   "source": [
    "# this is an hyperparameters of xgboost \n",
    "search_space = {\n",
    "    'max_depth': scope.int(hp.quniform('max_depth', 4, 100, 1)),\n",
    "    'learning_rate': hp.loguniform('learning_rate', -3, 0), # exp(-3), exp(0) | [0.005 , 1]\n",
    "    'reg_alpha': hp.loguniform('reg_alpha', -5, -1),\n",
    "    'reg_lambda': hp.loguniform('reg_lambda', -6, -1),\n",
    "    'min_child_weight': hp.loguniform('min_child_weight', -1, 3),\n",
    "    'objective': 'reg:linear',\n",
    "    'seed': 42\n",
    "}\n",
    "\n",
    "best_result = fmin(\n",
    "    fn=objective,\n",
    "    space=search_space,\n",
    "    algo=tpe.suggest,\n",
    "    max_evals=50,\n",
    "    trials=Trials()\n",
    ")"
   ]
  },
  {
   "cell_type": "code",
   "execution_count": 15,
   "metadata": {},
   "outputs": [
    {
     "name": "stdout",
     "output_type": "stream",
     "text": [
      "exp -3: 0.049787068367863944\n",
      "exp 1 : 1.0\n"
     ]
    }
   ],
   "source": [
    "from math import exp\n",
    "\n",
    "print(\"exp -3:\", exp(-3))\n",
    "print(\"exp 1 :\", exp(0))"
   ]
  },
  {
   "cell_type": "code",
   "execution_count": 16,
   "metadata": {},
   "outputs": [],
   "source": [
    "\n",
    "mlflow.xgboost.autolog(disable=True)"
   ]
  },
  {
   "cell_type": "code",
   "execution_count": 17,
   "metadata": {},
   "outputs": [
    {
     "name": "stderr",
     "output_type": "stream",
     "text": [
      "/home/codespace/.python/current/lib/python3.12/site-packages/xgboost/core.py:158: UserWarning: [11:04:00] WARNING: /workspace/src/objective/regression_obj.cu:227: reg:linear is now deprecated in favor of reg:squarederror.\n",
      "  warnings.warn(smsg, UserWarning)\n"
     ]
    },
    {
     "name": "stdout",
     "output_type": "stream",
     "text": [
      "[0]\tvalidation-rmse:11.44482\n",
      "[1]\tvalidation-rmse:10.77202\n",
      "[2]\tvalidation-rmse:10.18363\n",
      "[3]\tvalidation-rmse:9.67396\n",
      "[4]\tvalidation-rmse:9.23166\n",
      "[5]\tvalidation-rmse:8.84808\n",
      "[6]\tvalidation-rmse:8.51883\n",
      "[7]\tvalidation-rmse:8.23597\n",
      "[8]\tvalidation-rmse:7.99320\n",
      "[9]\tvalidation-rmse:7.78709\n",
      "[10]\tvalidation-rmse:7.61022\n",
      "[11]\tvalidation-rmse:7.45952\n",
      "[12]\tvalidation-rmse:7.33049\n",
      "[13]\tvalidation-rmse:7.22098\n",
      "[14]\tvalidation-rmse:7.12713\n",
      "[15]\tvalidation-rmse:7.04752\n",
      "[16]\tvalidation-rmse:6.98005\n",
      "[17]\tvalidation-rmse:6.92232\n",
      "[18]\tvalidation-rmse:6.87112\n",
      "[19]\tvalidation-rmse:6.82740\n",
      "[20]\tvalidation-rmse:6.78995\n",
      "[21]\tvalidation-rmse:6.75792\n",
      "[22]\tvalidation-rmse:6.72994\n",
      "[23]\tvalidation-rmse:6.70547\n",
      "[24]\tvalidation-rmse:6.68390\n",
      "[25]\tvalidation-rmse:6.66421\n",
      "[26]\tvalidation-rmse:6.64806\n",
      "[27]\tvalidation-rmse:6.63280\n",
      "[28]\tvalidation-rmse:6.61924\n",
      "[29]\tvalidation-rmse:6.60773\n",
      "[30]\tvalidation-rmse:6.59777\n",
      "[31]\tvalidation-rmse:6.58875\n",
      "[32]\tvalidation-rmse:6.58107\n",
      "[33]\tvalidation-rmse:6.57217\n",
      "[34]\tvalidation-rmse:6.56557\n",
      "[35]\tvalidation-rmse:6.56003\n",
      "[36]\tvalidation-rmse:6.55392\n",
      "[37]\tvalidation-rmse:6.54924\n",
      "[38]\tvalidation-rmse:6.54536\n",
      "[39]\tvalidation-rmse:6.54187\n",
      "[40]\tvalidation-rmse:6.53873\n",
      "[41]\tvalidation-rmse:6.53518\n",
      "[42]\tvalidation-rmse:6.53287\n",
      "[43]\tvalidation-rmse:6.53048\n",
      "[44]\tvalidation-rmse:6.52858\n",
      "[45]\tvalidation-rmse:6.52703\n",
      "[46]\tvalidation-rmse:6.52566\n",
      "[47]\tvalidation-rmse:6.52419\n",
      "[48]\tvalidation-rmse:6.52323\n",
      "[49]\tvalidation-rmse:6.52265\n",
      "[50]\tvalidation-rmse:6.52202\n",
      "[51]\tvalidation-rmse:6.52036\n",
      "[52]\tvalidation-rmse:6.52003\n",
      "[53]\tvalidation-rmse:6.51962\n",
      "[54]\tvalidation-rmse:6.51829\n",
      "[55]\tvalidation-rmse:6.51712\n",
      "[56]\tvalidation-rmse:6.51598\n",
      "[57]\tvalidation-rmse:6.51517\n",
      "[58]\tvalidation-rmse:6.51442\n",
      "[59]\tvalidation-rmse:6.51357\n",
      "[60]\tvalidation-rmse:6.51194\n",
      "[61]\tvalidation-rmse:6.51127\n",
      "[62]\tvalidation-rmse:6.51044\n",
      "[63]\tvalidation-rmse:6.50930\n",
      "[64]\tvalidation-rmse:6.50840\n",
      "[65]\tvalidation-rmse:6.50731\n",
      "[66]\tvalidation-rmse:6.50635\n",
      "[67]\tvalidation-rmse:6.50566\n",
      "[68]\tvalidation-rmse:6.50458\n",
      "[69]\tvalidation-rmse:6.50339\n",
      "[70]\tvalidation-rmse:6.50239\n",
      "[71]\tvalidation-rmse:6.50137\n",
      "[72]\tvalidation-rmse:6.50014\n",
      "[73]\tvalidation-rmse:6.49940\n",
      "[74]\tvalidation-rmse:6.49835\n",
      "[75]\tvalidation-rmse:6.49782\n",
      "[76]\tvalidation-rmse:6.49697\n",
      "[77]\tvalidation-rmse:6.49628\n",
      "[78]\tvalidation-rmse:6.49561\n",
      "[79]\tvalidation-rmse:6.49495\n",
      "[80]\tvalidation-rmse:6.49429\n",
      "[81]\tvalidation-rmse:6.49371\n",
      "[82]\tvalidation-rmse:6.49317\n",
      "[83]\tvalidation-rmse:6.49248\n",
      "[84]\tvalidation-rmse:6.49170\n",
      "[85]\tvalidation-rmse:6.49080\n",
      "[86]\tvalidation-rmse:6.49020\n",
      "[87]\tvalidation-rmse:6.48927\n",
      "[88]\tvalidation-rmse:6.48842\n",
      "[89]\tvalidation-rmse:6.48717\n",
      "[90]\tvalidation-rmse:6.48666\n",
      "[91]\tvalidation-rmse:6.48608\n",
      "[92]\tvalidation-rmse:6.48531\n",
      "[93]\tvalidation-rmse:6.48457\n",
      "[94]\tvalidation-rmse:6.48376\n",
      "[95]\tvalidation-rmse:6.48304\n",
      "[96]\tvalidation-rmse:6.48246\n",
      "[97]\tvalidation-rmse:6.48113\n",
      "[98]\tvalidation-rmse:6.48052\n",
      "[99]\tvalidation-rmse:6.47984\n"
     ]
    },
    {
     "name": "stderr",
     "output_type": "stream",
     "text": [
      "/home/codespace/.python/current/lib/python3.12/site-packages/xgboost/core.py:158: UserWarning: [11:04:45] WARNING: /workspace/src/c_api/c_api.cc:1374: Saving model in the UBJSON format as default.  You can use file extension: `json`, `ubj` or `deprecated` to choose between formats.\n",
      "  warnings.warn(smsg, UserWarning)\n",
      "2024/09/26 11:04:48 WARNING mlflow.models.model: Model logged without a signature and input example. Please set `input_example` parameter when logging the model to auto infer the model signature.\n"
     ]
    }
   ],
   "source": [
    "with mlflow.start_run():\n",
    "    \n",
    "    train = xgb.DMatrix(X_train, label=y_train)\n",
    "    valid = xgb.DMatrix(X_val, label=y_val)\n",
    "\n",
    "    best_params = {\n",
    "        'learning_rate': 0.09585355369315604,\n",
    "        'max_depth': 30,\n",
    "        'min_child_weight': 1.060597050922164,\n",
    "        'objective': 'reg:linear',\n",
    "        'reg_alpha': 0.018060244040060163,\n",
    "        'reg_lambda': 0.011658731377413597,\n",
    "        'seed': 42\n",
    "    }\n",
    "\n",
    "    mlflow.log_params(best_params)\n",
    "\n",
    "    booster = xgb.train(\n",
    "        params=best_params,\n",
    "        dtrain=train,\n",
    "        num_boost_round=100,\n",
    "        evals=[(valid, 'validation')],\n",
    "        early_stopping_rounds=20\n",
    "    )\n",
    "\n",
    "    y_pred = booster.predict(valid)\n",
    "    rmse = root_mean_squared_error(y_val, y_pred)\n",
    "    mlflow.log_metric(\"rmse\", rmse)\n",
    "\n",
    "    with open(\"models/preprocessor.b\", \"wb\") as f_out:\n",
    "        pickle.dump(dv, f_out)\n",
    "    mlflow.log_artifact(\"models/preprocessor.b\", artifact_path=\"preprocessor\")\n",
    "\n",
    "    mlflow.xgboost.log_model(booster, artifact_path=\"models_mlflow\")"
   ]
  },
  {
   "cell_type": "code",
   "execution_count": null,
   "metadata": {},
   "outputs": [],
   "source": [
    "# example from the video\n",
    "\n",
    "best_params = {\n",
    "    'learning_rate': 0.09585355369315604,\n",
    "    'max_depth': 30,\n",
    "    'min_child_weight': 1.060597050922164,\n",
    "    'objective': 'reg:linear',\n",
    "    'reg_alpha': 0.018060244040060163,\n",
    "    'reg_lambda': 0.011658731377413597,\n",
    "    'seed': 42\n",
    "}\n",
    "\n",
    "\n",
    "mlflow.xgboost.autolog()\n",
    "\n",
    "booster = xgb.train(\n",
    "    params=best_params,\n",
    "    dtrain=train,\n",
    "    num_boost_round=1000,\n",
    "    evals=[(valid, 'validation')],\n",
    "    early_stopping_rounds=50  # if after 50 iteration the models has not reach any improvment on the validation than the optimization of xgboost will be stopped\n",
    ")"
   ]
  },
  {
   "cell_type": "markdown",
   "metadata": {},
   "source": [
    "## Model Management"
   ]
  },
  {
   "cell_type": "code",
   "execution_count": 20,
   "metadata": {},
   "outputs": [],
   "source": [
    "with mlflow.start_run():\n",
    "\n",
    "    mlflow.set_tag(\"developer\", \"eliya\")\n",
    "\n",
    "    mlflow.log_param(\"train-data-path\", \"'https://d37ci6vzurychx.cloudfront.net/trip-data/green_tripdata_2021-01.parquet\")\n",
    "    mlflow.log_param(\"valid-data-path\", \"https://d37ci6vzurychx.cloudfront.net/trip-data/green_tripdata_2021-02.parquet\")\n",
    "\n",
    "    alpha = 0.01\n",
    "    mlflow.log_param(\"alpha\", alpha)\n",
    "    lr = Lasso(alpha)\n",
    "    lr.fit(X_train, y_train)\n",
    "\n",
    "    y_pred = lr.predict(X_val)\n",
    "    rmse = root_mean_squared_error(y_val, y_pred)\n",
    "    mlflow.log_metric(\"rmse\", rmse)\n",
    "    mlflow.log_artifact(local_path=\"models/lin_reg.bin\", artifact_path=\"models_pickle\")"
   ]
  },
  {
   "cell_type": "code",
   "execution_count": 22,
   "metadata": {},
   "outputs": [
    {
     "name": "stderr",
     "output_type": "stream",
     "text": [
      "/home/codespace/.python/current/lib/python3.12/site-packages/xgboost/core.py:158: UserWarning: [11:27:22] WARNING: /workspace/src/objective/regression_obj.cu:227: reg:linear is now deprecated in favor of reg:squarederror.\n",
      "  warnings.warn(smsg, UserWarning)\n"
     ]
    },
    {
     "name": "stdout",
     "output_type": "stream",
     "text": [
      "[0]\tvalidation-rmse:11.44482\n",
      "[1]\tvalidation-rmse:10.77202\n",
      "[2]\tvalidation-rmse:10.18363\n",
      "[3]\tvalidation-rmse:9.67396\n",
      "[4]\tvalidation-rmse:9.23166\n",
      "[5]\tvalidation-rmse:8.84808\n",
      "[6]\tvalidation-rmse:8.51883\n",
      "[7]\tvalidation-rmse:8.23597\n",
      "[8]\tvalidation-rmse:7.99320\n",
      "[9]\tvalidation-rmse:7.78709\n",
      "[10]\tvalidation-rmse:7.61022\n",
      "[11]\tvalidation-rmse:7.45952\n",
      "[12]\tvalidation-rmse:7.33049\n",
      "[13]\tvalidation-rmse:7.22098\n",
      "[14]\tvalidation-rmse:7.12713\n",
      "[15]\tvalidation-rmse:7.04752\n",
      "[16]\tvalidation-rmse:6.98005\n",
      "[17]\tvalidation-rmse:6.92232\n",
      "[18]\tvalidation-rmse:6.87112\n",
      "[19]\tvalidation-rmse:6.82740\n",
      "[20]\tvalidation-rmse:6.78995\n",
      "[21]\tvalidation-rmse:6.75792\n",
      "[22]\tvalidation-rmse:6.72994\n",
      "[23]\tvalidation-rmse:6.70547\n",
      "[24]\tvalidation-rmse:6.68390\n",
      "[25]\tvalidation-rmse:6.66421\n",
      "[26]\tvalidation-rmse:6.64806\n",
      "[27]\tvalidation-rmse:6.63280\n",
      "[28]\tvalidation-rmse:6.61924\n",
      "[29]\tvalidation-rmse:6.60773\n",
      "[30]\tvalidation-rmse:6.59777\n",
      "[31]\tvalidation-rmse:6.58875\n",
      "[32]\tvalidation-rmse:6.58107\n",
      "[33]\tvalidation-rmse:6.57217\n",
      "[34]\tvalidation-rmse:6.56557\n",
      "[35]\tvalidation-rmse:6.56003\n",
      "[36]\tvalidation-rmse:6.55392\n",
      "[37]\tvalidation-rmse:6.54924\n",
      "[38]\tvalidation-rmse:6.54536\n",
      "[39]\tvalidation-rmse:6.54187\n",
      "[40]\tvalidation-rmse:6.53873\n",
      "[41]\tvalidation-rmse:6.53518\n",
      "[42]\tvalidation-rmse:6.53287\n",
      "[43]\tvalidation-rmse:6.53048\n",
      "[44]\tvalidation-rmse:6.52858\n",
      "[45]\tvalidation-rmse:6.52703\n",
      "[46]\tvalidation-rmse:6.52566\n",
      "[47]\tvalidation-rmse:6.52419\n",
      "[48]\tvalidation-rmse:6.52323\n",
      "[49]\tvalidation-rmse:6.52265\n",
      "[50]\tvalidation-rmse:6.52202\n",
      "[51]\tvalidation-rmse:6.52036\n",
      "[52]\tvalidation-rmse:6.52003\n",
      "[53]\tvalidation-rmse:6.51962\n",
      "[54]\tvalidation-rmse:6.51829\n",
      "[55]\tvalidation-rmse:6.51712\n",
      "[56]\tvalidation-rmse:6.51598\n",
      "[57]\tvalidation-rmse:6.51517\n",
      "[58]\tvalidation-rmse:6.51442\n",
      "[59]\tvalidation-rmse:6.51357\n",
      "[60]\tvalidation-rmse:6.51194\n",
      "[61]\tvalidation-rmse:6.51127\n",
      "[62]\tvalidation-rmse:6.51044\n",
      "[63]\tvalidation-rmse:6.50930\n",
      "[64]\tvalidation-rmse:6.50840\n",
      "[65]\tvalidation-rmse:6.50731\n",
      "[66]\tvalidation-rmse:6.50635\n",
      "[67]\tvalidation-rmse:6.50566\n",
      "[68]\tvalidation-rmse:6.50458\n",
      "[69]\tvalidation-rmse:6.50339\n",
      "[70]\tvalidation-rmse:6.50239\n",
      "[71]\tvalidation-rmse:6.50137\n",
      "[72]\tvalidation-rmse:6.50014\n",
      "[73]\tvalidation-rmse:6.49940\n",
      "[74]\tvalidation-rmse:6.49835\n",
      "[75]\tvalidation-rmse:6.49782\n",
      "[76]\tvalidation-rmse:6.49697\n",
      "[77]\tvalidation-rmse:6.49628\n",
      "[78]\tvalidation-rmse:6.49561\n",
      "[79]\tvalidation-rmse:6.49495\n",
      "[80]\tvalidation-rmse:6.49429\n",
      "[81]\tvalidation-rmse:6.49371\n",
      "[82]\tvalidation-rmse:6.49317\n",
      "[83]\tvalidation-rmse:6.49248\n",
      "[84]\tvalidation-rmse:6.49170\n",
      "[85]\tvalidation-rmse:6.49080\n",
      "[86]\tvalidation-rmse:6.49020\n",
      "[87]\tvalidation-rmse:6.48927\n",
      "[88]\tvalidation-rmse:6.48842\n",
      "[89]\tvalidation-rmse:6.48717\n",
      "[90]\tvalidation-rmse:6.48666\n",
      "[91]\tvalidation-rmse:6.48608\n",
      "[92]\tvalidation-rmse:6.48531\n",
      "[93]\tvalidation-rmse:6.48457\n",
      "[94]\tvalidation-rmse:6.48376\n",
      "[95]\tvalidation-rmse:6.48304\n",
      "[96]\tvalidation-rmse:6.48246\n",
      "[97]\tvalidation-rmse:6.48113\n",
      "[98]\tvalidation-rmse:6.48052\n",
      "[99]\tvalidation-rmse:6.47984\n"
     ]
    },
    {
     "name": "stderr",
     "output_type": "stream",
     "text": [
      "/home/codespace/.python/current/lib/python3.12/site-packages/xgboost/core.py:158: UserWarning: [11:28:07] WARNING: /workspace/src/c_api/c_api.cc:1374: Saving model in the UBJSON format as default.  You can use file extension: `json`, `ubj` or `deprecated` to choose between formats.\n",
      "  warnings.warn(smsg, UserWarning)\n",
      "2024/09/26 11:28:09 WARNING mlflow.models.model: Model logged without a signature and input example. Please set `input_example` parameter when logging the model to auto infer the model signature.\n"
     ]
    }
   ],
   "source": [
    "with mlflow.start_run():\n",
    "\n",
    "    best_params = {\n",
    "    'learning_rate': 0.09585355369315604,\n",
    "    'max_depth': 30,\n",
    "    'min_child_weight': 1.060597050922164,\n",
    "    'objective': 'reg:linear',\n",
    "    'reg_alpha': 0.018060244040060163,\n",
    "    'reg_lambda': 0.011658731377413597,\n",
    "    'seed': 42\n",
    "}\n",
    "    mlflow.log_params(best_params)\n",
    "\n",
    "    booster = xgb.train(\n",
    "    params=best_params,\n",
    "    dtrain=train,\n",
    "    num_boost_round=100,\n",
    "    evals=[(valid, 'validation')],\n",
    "    early_stopping_rounds=20  \n",
    "    )\n",
    "\n",
    "    y_pred = booster.predict(valid)\n",
    "    rmse = root_mean_squared_error(y_val, y_pred)\n",
    "    mlflow.log_metric(\"rmse\", rmse)\n",
    "    \n",
    "    mlflow.xgboost.log_model(booster, artifact_path=\"models_mlflow\")\n"
   ]
  },
  {
   "cell_type": "markdown",
   "metadata": {},
   "source": [
    "load model"
   ]
  },
  {
   "cell_type": "code",
   "execution_count": 25,
   "metadata": {},
   "outputs": [
    {
     "data": {
      "text/plain": [
       "mlflow.pyfunc.loaded_model:\n",
       "  artifact_path: models_mlflow\n",
       "  flavor: mlflow.xgboost\n",
       "  run_id: a9331c27a4b746f2a4844bd2e65adf86"
      ]
     },
     "execution_count": 25,
     "metadata": {},
     "output_type": "execute_result"
    }
   ],
   "source": [
    "# Option 1 : loading with python functio\n",
    "\n",
    "logged_model = 'runs:/a9331c27a4b746f2a4844bd2e65adf86/models_mlflow'\n",
    "\n",
    "# Load model as a PyFuncModel.\n",
    "loaded_model = mlflow.pyfunc.load_model(logged_model)\n",
    "loaded_model"
   ]
  },
  {
   "cell_type": "code",
   "execution_count": 27,
   "metadata": {},
   "outputs": [
    {
     "data": {
      "text/plain": [
       "<xgboost.core.Booster at 0x7ac2d7c30590>"
      ]
     },
     "execution_count": 27,
     "metadata": {},
     "output_type": "execute_result"
    }
   ],
   "source": [
    "# Option 2 : loading from mlflow \n",
    "\n",
    "xgboost_model = mlflow.xgboost.load_model('runs:/a9331c27a4b746f2a4844bd2e65adf86/models_mlflow')\n",
    "xgboost_model # xgboot object"
   ]
  },
  {
   "cell_type": "code",
   "execution_count": 28,
   "metadata": {},
   "outputs": [
    {
     "data": {
      "text/plain": [
       "6.479841007109041"
      ]
     },
     "execution_count": 28,
     "metadata": {},
     "output_type": "execute_result"
    }
   ],
   "source": [
    "xgboost_model.best_score"
   ]
  },
  {
   "cell_type": "code",
   "execution_count": 30,
   "metadata": {},
   "outputs": [
    {
     "data": {
      "text/plain": [
       "array([15.707287 ,  7.1738143, 18.640547 , ..., 13.417416 ,  6.7913156,\n",
       "        8.298626 ], dtype=float32)"
      ]
     },
     "execution_count": 30,
     "metadata": {},
     "output_type": "execute_result"
    }
   ],
   "source": [
    "y_pred = xgboost_model.predict(valid)\n",
    "y_pred"
   ]
  }
 ],
 "metadata": {
  "kernelspec": {
   "display_name": "Python 3",
   "language": "python",
   "name": "python3"
  },
  "language_info": {
   "codemirror_mode": {
    "name": "ipython",
    "version": 3
   },
   "file_extension": ".py",
   "mimetype": "text/x-python",
   "name": "python",
   "nbconvert_exporter": "python",
   "pygments_lexer": "ipython3",
   "version": "3.12.1"
  }
 },
 "nbformat": 4,
 "nbformat_minor": 2
}
